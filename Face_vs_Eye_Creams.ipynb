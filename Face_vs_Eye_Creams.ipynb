{
 "cells": [
  {
   "cell_type": "code",
   "execution_count": 37,
   "metadata": {
    "collapsed": false
   },
   "outputs": [
    {
     "name": "stdout",
     "output_type": "stream",
     "text": [
      "List of ingredients for face cream? aqua (water), glycerin, hydrolyzed yeast extract, sodium hyaluronate crosspolymer, pentylene glycol, ethoxydiglycol, tamarindus indica seed gum, palmitoyl tripeptide-38, myristoyl nonapeptide-3, copper lysinate/prolinate, methylglucoside phosphate, hydrolyzed sodium hyaluronate, sodium hyaluronate, ahnfeltia concinna extract, saccharide isomerate, polyglucuronic acid, lactobacillus/ eriodictyon californicum ferment extract, pseudoalteromonas ferment extract, phospholipids, lecithin, salicylic acid, hydroxypropyl cyclodextrin, cetyl hydroxyethylcellulose, polyacrylate crosspolymer-6, hexylene glycol, sodium hydroxide, sodium citrate, citric acid, trisodium ethylenediamine disuccinate, leuconostoc/radish root ferment filtrate, potassium sorbate, ethylhexylglycerin, sodium benzoate, caprylyl glycol, phenoxyethanol, chlorphenesin\n",
      "List of ingredients for eye cream?  aqua (water), glycerin, methyl methacrylate/peg/ppg-4/3 methacrylate crosspolymer, albizia julibrissin bark extract, propanediol, palmitoyl heptapeptide-18, palmitoyl hexapeptide-52, myristoyl nonapeptide-3, palmitoyl tripeptide-38, dipeptide diaminobutyroyl benzylamide diacetate, perfluorodecalin, perfluorohexane, perfluoroperhydrophenanthrene, aminobutyric acid, fucus vesiculosus extract, ascophyllum nodosum extract, asparagopsis armata extract, gallyl glucoside, hydroxypropyl cyclodextrin, epigallocatechin gallatyl glucoside, darutoside, mangifera indica seed butter, lecithin, orbignya oleifera seed oil, squalane, tocopheryl acetate, propyl gallate, polyacrylate crosspolymer-6, pentylene glycol, sorbitol, cetearyl isononanoate, ceteareth-20, cetearyl alcohol, glyceryl stearate, xanthan gum, ceteareth-12, cetyl palmitate, glycolic acid, lactic acid, polyvinyl alcohol, glyceryl caprylate, potassium sorbate, benzoic acid, benzyl alcohol, hexylene glycol, caprylyl glycol, dehydroacetic acid, phenylpropanol, phenoxyethanol, chlorphenesin\n",
      "--------------------------\n",
      "Unique ingredients in the face cream: \n",
      "['aqua (water)', 'hydrolyzed yeast extract', 'sodium hyaluronate crosspolymer', 'ethoxydiglycol', 'tamarindus indica seed gum', 'copper lysinate/prolinate', 'methylglucoside phosphate', 'hydrolyzed sodium hyaluronate', 'sodium hyaluronate', 'ahnfeltia concinna extract', 'saccharide isomerate', 'polyglucuronic acid', 'lactobacillus/ eriodictyon californicum ferment extract', 'pseudoalteromonas ferment extract', 'phospholipids', 'salicylic acid', 'cetyl hydroxyethylcellulose', 'sodium hydroxide', 'sodium citrate', 'citric acid', 'trisodium ethylenediamine disuccinate', 'leuconostoc/radish root ferment filtrate', 'ethylhexylglycerin', 'sodium benzoate']\n",
      "\n",
      "Unique ingredients in the eye cream: \n",
      "[' aqua (water)', 'methyl methacrylate/peg/ppg-4/3 methacrylate crosspolymer', 'albizia julibrissin bark extract', 'propanediol', 'palmitoyl heptapeptide-18', 'palmitoyl hexapeptide-52', 'dipeptide diaminobutyroyl benzylamide diacetate', 'perfluorodecalin', 'perfluorohexane', 'perfluoroperhydrophenanthrene', 'aminobutyric acid', 'fucus vesiculosus extract', 'ascophyllum nodosum extract', 'asparagopsis armata extract', 'gallyl glucoside', 'epigallocatechin gallatyl glucoside', 'darutoside', 'mangifera indica seed butter', 'orbignya oleifera seed oil', 'squalane', 'tocopheryl acetate', 'propyl gallate', 'sorbitol', 'cetearyl isononanoate', 'ceteareth-20', 'cetearyl alcohol', 'glyceryl stearate', 'xanthan gum', 'ceteareth-12', 'cetyl palmitate', 'glycolic acid', 'lactic acid', 'polyvinyl alcohol', 'glyceryl caprylate', 'benzoic acid', 'benzyl alcohol', 'dehydroacetic acid', 'phenylpropanol']\n",
      "\n",
      "Number of differing ingredients: \n",
      "62\n"
     ]
    }
   ],
   "source": [
    "face = input('List of ingredients for face cream? ')\n",
    "facelist = face.split(\", \")\n",
    "\n",
    "eye = input('List of ingredients for eye cream? ')\n",
    "eyelist = eye.split(\", \")\n",
    "\n",
    "count = 0\n",
    "\n",
    "print(\"--------------------------\")\n",
    "\n",
    "diff_ing_face = []\n",
    "diff_ing_eye = []\n",
    "\n",
    "for item in facelist:\n",
    "    if item not in eyelist:\n",
    "        diff_ing_face.append(item)\n",
    "        count+=1\n",
    "        \n",
    "for item in eyelist:\n",
    "    if item not in facelist:\n",
    "        diff_ing_eye.append(item)\n",
    "        count+=1\n",
    "        \n",
    "print(\"Unique ingredients in the face cream: \\n\" + str(diff_ing_face) + \"\\n\")\n",
    "print(\"Unique ingredients in the eye cream: \\n\" + str(diff_ing_eye) + \"\\n\")\n",
    "print(\"Number of differing ingredients: \")\n",
    "print(count)"
   ]
  },
  {
   "cell_type": "code",
   "execution_count": null,
   "metadata": {
    "collapsed": true
   },
   "outputs": [],
   "source": []
  },
  {
   "cell_type": "code",
   "execution_count": null,
   "metadata": {
    "collapsed": true
   },
   "outputs": [],
   "source": []
  },
  {
   "cell_type": "code",
   "execution_count": null,
   "metadata": {
    "collapsed": true
   },
   "outputs": [],
   "source": []
  }
 ],
 "metadata": {
  "anaconda-cloud": {},
  "kernelspec": {
   "display_name": "Python [Root]",
   "language": "python",
   "name": "Python [Root]"
  },
  "language_info": {
   "codemirror_mode": {
    "name": "ipython",
    "version": 3
   },
   "file_extension": ".py",
   "mimetype": "text/x-python",
   "name": "python",
   "nbconvert_exporter": "python",
   "pygments_lexer": "ipython3",
   "version": "3.5.2"
  }
 },
 "nbformat": 4,
 "nbformat_minor": 0
}
